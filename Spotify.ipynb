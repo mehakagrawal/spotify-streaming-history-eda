{
 "cells": [
  {
   "cell_type": "markdown",
   "id": "e16009e0",
   "metadata": {},
   "source": [
    "### Import Libraries"
   ]
  },
  {
   "cell_type": "code",
   "execution_count": 534,
   "id": "fac3486d",
   "metadata": {},
   "outputs": [],
   "source": [
    "import pandas as pd\n",
    "import numpy as np\n",
    "import matplotlib\n",
    "import matplotlib.pyplot as plt\n",
    "import seaborn as sns"
   ]
  },
  {
   "cell_type": "markdown",
   "id": "d7c869d8",
   "metadata": {},
   "source": [
    "### Read the JSON File"
   ]
  },
  {
   "cell_type": "code",
   "execution_count": 535,
   "id": "07704145",
   "metadata": {},
   "outputs": [
    {
     "data": {
      "text/html": [
       "<div>\n",
       "<style scoped>\n",
       "    .dataframe tbody tr th:only-of-type {\n",
       "        vertical-align: middle;\n",
       "    }\n",
       "\n",
       "    .dataframe tbody tr th {\n",
       "        vertical-align: top;\n",
       "    }\n",
       "\n",
       "    .dataframe thead th {\n",
       "        text-align: right;\n",
       "    }\n",
       "</style>\n",
       "<table border=\"1\" class=\"dataframe\">\n",
       "  <thead>\n",
       "    <tr style=\"text-align: right;\">\n",
       "      <th></th>\n",
       "      <th>endTime</th>\n",
       "      <th>artistName</th>\n",
       "      <th>trackName</th>\n",
       "      <th>msPlayed</th>\n",
       "    </tr>\n",
       "  </thead>\n",
       "  <tbody>\n",
       "    <tr>\n",
       "      <th>0</th>\n",
       "      <td>2020-08-21 18:59</td>\n",
       "      <td>Arijit Singh</td>\n",
       "      <td>Raabta (From \"Agent Vinod\")</td>\n",
       "      <td>218733</td>\n",
       "    </tr>\n",
       "    <tr>\n",
       "      <th>1</th>\n",
       "      <td>2020-08-22 07:41</td>\n",
       "      <td>Troye Sivan</td>\n",
       "      <td>The Fault in Our Stars</td>\n",
       "      <td>100480</td>\n",
       "    </tr>\n",
       "    <tr>\n",
       "      <th>2</th>\n",
       "      <td>2020-08-22 11:59</td>\n",
       "      <td>Avicii</td>\n",
       "      <td>The Nights</td>\n",
       "      <td>0</td>\n",
       "    </tr>\n",
       "    <tr>\n",
       "      <th>3</th>\n",
       "      <td>2020-08-22 11:59</td>\n",
       "      <td>Troye Sivan</td>\n",
       "      <td>The Fault in Our Stars</td>\n",
       "      <td>7958</td>\n",
       "    </tr>\n",
       "    <tr>\n",
       "      <th>4</th>\n",
       "      <td>2020-08-22 11:59</td>\n",
       "      <td>Pritam</td>\n",
       "      <td>Khairiyat</td>\n",
       "      <td>2911</td>\n",
       "    </tr>\n",
       "  </tbody>\n",
       "</table>\n",
       "</div>"
      ],
      "text/plain": [
       "            endTime    artistName                    trackName  msPlayed\n",
       "0  2020-08-21 18:59  Arijit Singh  Raabta (From \"Agent Vinod\")    218733\n",
       "1  2020-08-22 07:41   Troye Sivan       The Fault in Our Stars    100480\n",
       "2  2020-08-22 11:59        Avicii                   The Nights         0\n",
       "3  2020-08-22 11:59   Troye Sivan       The Fault in Our Stars      7958\n",
       "4  2020-08-22 11:59        Pritam                    Khairiyat      2911"
      ]
     },
     "execution_count": 535,
     "metadata": {},
     "output_type": "execute_result"
    }
   ],
   "source": [
    "df = pd.read_json(\"StreamingHistory0.json\") \n",
    "\n",
    "df.head()"
   ]
  },
  {
   "cell_type": "markdown",
   "id": "84ee070c",
   "metadata": {},
   "source": [
    "### Convert endTime column into proper Date-Time format column"
   ]
  },
  {
   "cell_type": "code",
   "execution_count": 536,
   "id": "c73208aa",
   "metadata": {},
   "outputs": [
    {
     "data": {
      "text/html": [
       "<div>\n",
       "<style scoped>\n",
       "    .dataframe tbody tr th:only-of-type {\n",
       "        vertical-align: middle;\n",
       "    }\n",
       "\n",
       "    .dataframe tbody tr th {\n",
       "        vertical-align: top;\n",
       "    }\n",
       "\n",
       "    .dataframe thead th {\n",
       "        text-align: right;\n",
       "    }\n",
       "</style>\n",
       "<table border=\"1\" class=\"dataframe\">\n",
       "  <thead>\n",
       "    <tr style=\"text-align: right;\">\n",
       "      <th></th>\n",
       "      <th>endTime</th>\n",
       "      <th>artistName</th>\n",
       "      <th>trackName</th>\n",
       "      <th>msPlayed</th>\n",
       "      <th>Stream_Time</th>\n",
       "    </tr>\n",
       "  </thead>\n",
       "  <tbody>\n",
       "    <tr>\n",
       "      <th>0</th>\n",
       "      <td>2020-08-21 18:59</td>\n",
       "      <td>Arijit Singh</td>\n",
       "      <td>Raabta (From \"Agent Vinod\")</td>\n",
       "      <td>218733</td>\n",
       "      <td>2020-08-21 18:59:00</td>\n",
       "    </tr>\n",
       "    <tr>\n",
       "      <th>1</th>\n",
       "      <td>2020-08-22 07:41</td>\n",
       "      <td>Troye Sivan</td>\n",
       "      <td>The Fault in Our Stars</td>\n",
       "      <td>100480</td>\n",
       "      <td>2020-08-22 07:41:00</td>\n",
       "    </tr>\n",
       "    <tr>\n",
       "      <th>2</th>\n",
       "      <td>2020-08-22 11:59</td>\n",
       "      <td>Avicii</td>\n",
       "      <td>The Nights</td>\n",
       "      <td>0</td>\n",
       "      <td>2020-08-22 11:59:00</td>\n",
       "    </tr>\n",
       "    <tr>\n",
       "      <th>3</th>\n",
       "      <td>2020-08-22 11:59</td>\n",
       "      <td>Troye Sivan</td>\n",
       "      <td>The Fault in Our Stars</td>\n",
       "      <td>7958</td>\n",
       "      <td>2020-08-22 11:59:00</td>\n",
       "    </tr>\n",
       "    <tr>\n",
       "      <th>4</th>\n",
       "      <td>2020-08-22 11:59</td>\n",
       "      <td>Pritam</td>\n",
       "      <td>Khairiyat</td>\n",
       "      <td>2911</td>\n",
       "      <td>2020-08-22 11:59:00</td>\n",
       "    </tr>\n",
       "  </tbody>\n",
       "</table>\n",
       "</div>"
      ],
      "text/plain": [
       "            endTime    artistName                    trackName  msPlayed  \\\n",
       "0  2020-08-21 18:59  Arijit Singh  Raabta (From \"Agent Vinod\")    218733   \n",
       "1  2020-08-22 07:41   Troye Sivan       The Fault in Our Stars    100480   \n",
       "2  2020-08-22 11:59        Avicii                   The Nights         0   \n",
       "3  2020-08-22 11:59   Troye Sivan       The Fault in Our Stars      7958   \n",
       "4  2020-08-22 11:59        Pritam                    Khairiyat      2911   \n",
       "\n",
       "          Stream_Time  \n",
       "0 2020-08-21 18:59:00  \n",
       "1 2020-08-22 07:41:00  \n",
       "2 2020-08-22 11:59:00  \n",
       "3 2020-08-22 11:59:00  \n",
       "4 2020-08-22 11:59:00  "
      ]
     },
     "execution_count": 536,
     "metadata": {},
     "output_type": "execute_result"
    }
   ],
   "source": [
    "df[\"Stream_Time\"]= pd.to_datetime(df[\"endTime\"])\n",
    "\n",
    "df.head()"
   ]
  },
  {
   "cell_type": "markdown",
   "id": "c08f5279",
   "metadata": {},
   "source": [
    "### Add more useful columns and convert msPlayed column into proper time column"
   ]
  },
  {
   "cell_type": "code",
   "execution_count": 537,
   "id": "2b912a0e",
   "metadata": {},
   "outputs": [
    {
     "data": {
      "text/html": [
       "<div>\n",
       "<style scoped>\n",
       "    .dataframe tbody tr th:only-of-type {\n",
       "        vertical-align: middle;\n",
       "    }\n",
       "\n",
       "    .dataframe tbody tr th {\n",
       "        vertical-align: top;\n",
       "    }\n",
       "\n",
       "    .dataframe thead th {\n",
       "        text-align: right;\n",
       "    }\n",
       "</style>\n",
       "<table border=\"1\" class=\"dataframe\">\n",
       "  <thead>\n",
       "    <tr style=\"text-align: right;\">\n",
       "      <th></th>\n",
       "      <th>endTime</th>\n",
       "      <th>artistName</th>\n",
       "      <th>trackName</th>\n",
       "      <th>msPlayed</th>\n",
       "      <th>Stream_Time</th>\n",
       "      <th>year</th>\n",
       "      <th>month</th>\n",
       "      <th>day</th>\n",
       "      <th>time</th>\n",
       "      <th>hour</th>\n",
       "      <th>day_name</th>\n",
       "      <th>Stream_Duration</th>\n",
       "      <th>Count</th>\n",
       "    </tr>\n",
       "  </thead>\n",
       "  <tbody>\n",
       "    <tr>\n",
       "      <th>0</th>\n",
       "      <td>2020-08-21 18:59</td>\n",
       "      <td>Arijit Singh</td>\n",
       "      <td>Raabta (From \"Agent Vinod\")</td>\n",
       "      <td>218733</td>\n",
       "      <td>2020-08-21 18:59:00</td>\n",
       "      <td>2020</td>\n",
       "      <td>8</td>\n",
       "      <td>21</td>\n",
       "      <td>18:59:00</td>\n",
       "      <td>18</td>\n",
       "      <td>Friday</td>\n",
       "      <td>0 days 00:03:38.733000</td>\n",
       "      <td>1</td>\n",
       "    </tr>\n",
       "    <tr>\n",
       "      <th>1</th>\n",
       "      <td>2020-08-22 07:41</td>\n",
       "      <td>Troye Sivan</td>\n",
       "      <td>The Fault in Our Stars</td>\n",
       "      <td>100480</td>\n",
       "      <td>2020-08-22 07:41:00</td>\n",
       "      <td>2020</td>\n",
       "      <td>8</td>\n",
       "      <td>22</td>\n",
       "      <td>07:41:00</td>\n",
       "      <td>7</td>\n",
       "      <td>Saturday</td>\n",
       "      <td>0 days 00:01:40.480000</td>\n",
       "      <td>1</td>\n",
       "    </tr>\n",
       "    <tr>\n",
       "      <th>2</th>\n",
       "      <td>2020-08-22 11:59</td>\n",
       "      <td>Avicii</td>\n",
       "      <td>The Nights</td>\n",
       "      <td>0</td>\n",
       "      <td>2020-08-22 11:59:00</td>\n",
       "      <td>2020</td>\n",
       "      <td>8</td>\n",
       "      <td>22</td>\n",
       "      <td>11:59:00</td>\n",
       "      <td>11</td>\n",
       "      <td>Saturday</td>\n",
       "      <td>0 days 00:00:00</td>\n",
       "      <td>1</td>\n",
       "    </tr>\n",
       "    <tr>\n",
       "      <th>3</th>\n",
       "      <td>2020-08-22 11:59</td>\n",
       "      <td>Troye Sivan</td>\n",
       "      <td>The Fault in Our Stars</td>\n",
       "      <td>7958</td>\n",
       "      <td>2020-08-22 11:59:00</td>\n",
       "      <td>2020</td>\n",
       "      <td>8</td>\n",
       "      <td>22</td>\n",
       "      <td>11:59:00</td>\n",
       "      <td>11</td>\n",
       "      <td>Saturday</td>\n",
       "      <td>0 days 00:00:07.958000</td>\n",
       "      <td>1</td>\n",
       "    </tr>\n",
       "    <tr>\n",
       "      <th>4</th>\n",
       "      <td>2020-08-22 11:59</td>\n",
       "      <td>Pritam</td>\n",
       "      <td>Khairiyat</td>\n",
       "      <td>2911</td>\n",
       "      <td>2020-08-22 11:59:00</td>\n",
       "      <td>2020</td>\n",
       "      <td>8</td>\n",
       "      <td>22</td>\n",
       "      <td>11:59:00</td>\n",
       "      <td>11</td>\n",
       "      <td>Saturday</td>\n",
       "      <td>0 days 00:00:02.911000</td>\n",
       "      <td>1</td>\n",
       "    </tr>\n",
       "  </tbody>\n",
       "</table>\n",
       "</div>"
      ],
      "text/plain": [
       "            endTime    artistName                    trackName  msPlayed  \\\n",
       "0  2020-08-21 18:59  Arijit Singh  Raabta (From \"Agent Vinod\")    218733   \n",
       "1  2020-08-22 07:41   Troye Sivan       The Fault in Our Stars    100480   \n",
       "2  2020-08-22 11:59        Avicii                   The Nights         0   \n",
       "3  2020-08-22 11:59   Troye Sivan       The Fault in Our Stars      7958   \n",
       "4  2020-08-22 11:59        Pritam                    Khairiyat      2911   \n",
       "\n",
       "          Stream_Time  year  month  day      time  hour  day_name  \\\n",
       "0 2020-08-21 18:59:00  2020      8   21  18:59:00    18    Friday   \n",
       "1 2020-08-22 07:41:00  2020      8   22  07:41:00     7  Saturday   \n",
       "2 2020-08-22 11:59:00  2020      8   22  11:59:00    11  Saturday   \n",
       "3 2020-08-22 11:59:00  2020      8   22  11:59:00    11  Saturday   \n",
       "4 2020-08-22 11:59:00  2020      8   22  11:59:00    11  Saturday   \n",
       "\n",
       "         Stream_Duration  Count  \n",
       "0 0 days 00:03:38.733000      1  \n",
       "1 0 days 00:01:40.480000      1  \n",
       "2        0 days 00:00:00      1  \n",
       "3 0 days 00:00:07.958000      1  \n",
       "4 0 days 00:00:02.911000      1  "
      ]
     },
     "execution_count": 537,
     "metadata": {},
     "output_type": "execute_result"
    }
   ],
   "source": [
    "df['year'] = pd.DatetimeIndex(df[\"Stream_Time\"]).year\n",
    "df['month'] = pd.DatetimeIndex(df[\"Stream_Time\"]).month\n",
    "df['day'] = pd.DatetimeIndex(df[\"Stream_Time\"]).day\n",
    "df['time'] = pd.DatetimeIndex(df[\"Stream_Time\"]).time\n",
    "df['hour'] = pd.DatetimeIndex(df[\"Stream_Time\"]).hour\n",
    "df['day_name'] = df[\"Stream_Time\"].apply(lambda x: x.day_name())\n",
    "df['Stream_Duration'] = pd.to_timedelta(df[\"msPlayed\"], unit='ms')\n",
    "df['Count'] = 1\n",
    "\n",
    "df.head()"
   ]
  },
  {
   "cell_type": "markdown",
   "id": "d9f50d2a",
   "metadata": {},
   "source": [
    "### Convert Stream_Duration column to Hours and Minutes column"
   ]
  },
  {
   "cell_type": "code",
   "execution_count": 538,
   "id": "acfed4b2",
   "metadata": {},
   "outputs": [
    {
     "data": {
      "text/html": [
       "<div>\n",
       "<style scoped>\n",
       "    .dataframe tbody tr th:only-of-type {\n",
       "        vertical-align: middle;\n",
       "    }\n",
       "\n",
       "    .dataframe tbody tr th {\n",
       "        vertical-align: top;\n",
       "    }\n",
       "\n",
       "    .dataframe thead th {\n",
       "        text-align: right;\n",
       "    }\n",
       "</style>\n",
       "<table border=\"1\" class=\"dataframe\">\n",
       "  <thead>\n",
       "    <tr style=\"text-align: right;\">\n",
       "      <th></th>\n",
       "      <th>endTime</th>\n",
       "      <th>artistName</th>\n",
       "      <th>trackName</th>\n",
       "      <th>msPlayed</th>\n",
       "      <th>Stream_Time</th>\n",
       "      <th>year</th>\n",
       "      <th>month</th>\n",
       "      <th>day</th>\n",
       "      <th>time</th>\n",
       "      <th>hour</th>\n",
       "      <th>day_name</th>\n",
       "      <th>Stream_Duration</th>\n",
       "      <th>Count</th>\n",
       "      <th>Listening Hours</th>\n",
       "      <th>Listening Minutes</th>\n",
       "    </tr>\n",
       "  </thead>\n",
       "  <tbody>\n",
       "    <tr>\n",
       "      <th>0</th>\n",
       "      <td>2020-08-21 18:59</td>\n",
       "      <td>Arijit Singh</td>\n",
       "      <td>Raabta (From \"Agent Vinod\")</td>\n",
       "      <td>218733</td>\n",
       "      <td>2020-08-21 18:59:00</td>\n",
       "      <td>2020</td>\n",
       "      <td>8</td>\n",
       "      <td>21</td>\n",
       "      <td>18:59:00</td>\n",
       "      <td>18</td>\n",
       "      <td>Friday</td>\n",
       "      <td>0 days 00:03:38.733000</td>\n",
       "      <td>1</td>\n",
       "      <td>0.061</td>\n",
       "      <td>3.633</td>\n",
       "    </tr>\n",
       "    <tr>\n",
       "      <th>1</th>\n",
       "      <td>2020-08-22 07:41</td>\n",
       "      <td>Troye Sivan</td>\n",
       "      <td>The Fault in Our Stars</td>\n",
       "      <td>100480</td>\n",
       "      <td>2020-08-22 07:41:00</td>\n",
       "      <td>2020</td>\n",
       "      <td>8</td>\n",
       "      <td>22</td>\n",
       "      <td>07:41:00</td>\n",
       "      <td>7</td>\n",
       "      <td>Saturday</td>\n",
       "      <td>0 days 00:01:40.480000</td>\n",
       "      <td>1</td>\n",
       "      <td>0.028</td>\n",
       "      <td>1.667</td>\n",
       "    </tr>\n",
       "    <tr>\n",
       "      <th>2</th>\n",
       "      <td>2020-08-22 11:59</td>\n",
       "      <td>Avicii</td>\n",
       "      <td>The Nights</td>\n",
       "      <td>0</td>\n",
       "      <td>2020-08-22 11:59:00</td>\n",
       "      <td>2020</td>\n",
       "      <td>8</td>\n",
       "      <td>22</td>\n",
       "      <td>11:59:00</td>\n",
       "      <td>11</td>\n",
       "      <td>Saturday</td>\n",
       "      <td>0 days 00:00:00</td>\n",
       "      <td>1</td>\n",
       "      <td>0.000</td>\n",
       "      <td>0.000</td>\n",
       "    </tr>\n",
       "    <tr>\n",
       "      <th>3</th>\n",
       "      <td>2020-08-22 11:59</td>\n",
       "      <td>Troye Sivan</td>\n",
       "      <td>The Fault in Our Stars</td>\n",
       "      <td>7958</td>\n",
       "      <td>2020-08-22 11:59:00</td>\n",
       "      <td>2020</td>\n",
       "      <td>8</td>\n",
       "      <td>22</td>\n",
       "      <td>11:59:00</td>\n",
       "      <td>11</td>\n",
       "      <td>Saturday</td>\n",
       "      <td>0 days 00:00:07.958000</td>\n",
       "      <td>1</td>\n",
       "      <td>0.002</td>\n",
       "      <td>0.117</td>\n",
       "    </tr>\n",
       "    <tr>\n",
       "      <th>4</th>\n",
       "      <td>2020-08-22 11:59</td>\n",
       "      <td>Pritam</td>\n",
       "      <td>Khairiyat</td>\n",
       "      <td>2911</td>\n",
       "      <td>2020-08-22 11:59:00</td>\n",
       "      <td>2020</td>\n",
       "      <td>8</td>\n",
       "      <td>22</td>\n",
       "      <td>11:59:00</td>\n",
       "      <td>11</td>\n",
       "      <td>Saturday</td>\n",
       "      <td>0 days 00:00:02.911000</td>\n",
       "      <td>1</td>\n",
       "      <td>0.001</td>\n",
       "      <td>0.033</td>\n",
       "    </tr>\n",
       "  </tbody>\n",
       "</table>\n",
       "</div>"
      ],
      "text/plain": [
       "            endTime    artistName                    trackName  msPlayed  \\\n",
       "0  2020-08-21 18:59  Arijit Singh  Raabta (From \"Agent Vinod\")    218733   \n",
       "1  2020-08-22 07:41   Troye Sivan       The Fault in Our Stars    100480   \n",
       "2  2020-08-22 11:59        Avicii                   The Nights         0   \n",
       "3  2020-08-22 11:59   Troye Sivan       The Fault in Our Stars      7958   \n",
       "4  2020-08-22 11:59        Pritam                    Khairiyat      2911   \n",
       "\n",
       "          Stream_Time  year  month  day      time  hour  day_name  \\\n",
       "0 2020-08-21 18:59:00  2020      8   21  18:59:00    18    Friday   \n",
       "1 2020-08-22 07:41:00  2020      8   22  07:41:00     7  Saturday   \n",
       "2 2020-08-22 11:59:00  2020      8   22  11:59:00    11  Saturday   \n",
       "3 2020-08-22 11:59:00  2020      8   22  11:59:00    11  Saturday   \n",
       "4 2020-08-22 11:59:00  2020      8   22  11:59:00    11  Saturday   \n",
       "\n",
       "         Stream_Duration  Count  Listening Hours  Listening Minutes  \n",
       "0 0 days 00:03:38.733000      1            0.061              3.633  \n",
       "1 0 days 00:01:40.480000      1            0.028              1.667  \n",
       "2        0 days 00:00:00      1            0.000              0.000  \n",
       "3 0 days 00:00:07.958000      1            0.002              0.117  \n",
       "4 0 days 00:00:02.911000      1            0.001              0.033  "
      ]
     },
     "execution_count": 538,
     "metadata": {},
     "output_type": "execute_result"
    }
   ],
   "source": [
    "def hours(td):\n",
    "    return td.seconds/3600\n",
    "\n",
    "def minutes(td):\n",
    "    return (td.seconds/60)%60\n",
    "\n",
    "df[\"Listening Hours\"] = df[\"Stream_Duration\"].apply(hours).round(3)\n",
    "df[\"Listening Minutes\"] = df[\"Stream_Duration\"].apply(minutes).round(3)\n",
    "\n",
    "df.head()"
   ]
  },
  {
   "cell_type": "markdown",
   "id": "f676abb6",
   "metadata": {},
   "source": [
    "### Delete the useless columns"
   ]
  },
  {
   "cell_type": "code",
   "execution_count": 539,
   "id": "59c57af7",
   "metadata": {},
   "outputs": [
    {
     "data": {
      "text/html": [
       "<div>\n",
       "<style scoped>\n",
       "    .dataframe tbody tr th:only-of-type {\n",
       "        vertical-align: middle;\n",
       "    }\n",
       "\n",
       "    .dataframe tbody tr th {\n",
       "        vertical-align: top;\n",
       "    }\n",
       "\n",
       "    .dataframe thead th {\n",
       "        text-align: right;\n",
       "    }\n",
       "</style>\n",
       "<table border=\"1\" class=\"dataframe\">\n",
       "  <thead>\n",
       "    <tr style=\"text-align: right;\">\n",
       "      <th></th>\n",
       "      <th>artistName</th>\n",
       "      <th>trackName</th>\n",
       "      <th>Stream_Time</th>\n",
       "      <th>year</th>\n",
       "      <th>month</th>\n",
       "      <th>day</th>\n",
       "      <th>time</th>\n",
       "      <th>hour</th>\n",
       "      <th>day_name</th>\n",
       "      <th>Count</th>\n",
       "      <th>Listening Hours</th>\n",
       "      <th>Listening Minutes</th>\n",
       "    </tr>\n",
       "  </thead>\n",
       "  <tbody>\n",
       "    <tr>\n",
       "      <th>0</th>\n",
       "      <td>Arijit Singh</td>\n",
       "      <td>Raabta (From \"Agent Vinod\")</td>\n",
       "      <td>2020-08-21 18:59:00</td>\n",
       "      <td>2020</td>\n",
       "      <td>8</td>\n",
       "      <td>21</td>\n",
       "      <td>18:59:00</td>\n",
       "      <td>18</td>\n",
       "      <td>Friday</td>\n",
       "      <td>1</td>\n",
       "      <td>0.061</td>\n",
       "      <td>3.633</td>\n",
       "    </tr>\n",
       "    <tr>\n",
       "      <th>1</th>\n",
       "      <td>Troye Sivan</td>\n",
       "      <td>The Fault in Our Stars</td>\n",
       "      <td>2020-08-22 07:41:00</td>\n",
       "      <td>2020</td>\n",
       "      <td>8</td>\n",
       "      <td>22</td>\n",
       "      <td>07:41:00</td>\n",
       "      <td>7</td>\n",
       "      <td>Saturday</td>\n",
       "      <td>1</td>\n",
       "      <td>0.028</td>\n",
       "      <td>1.667</td>\n",
       "    </tr>\n",
       "    <tr>\n",
       "      <th>2</th>\n",
       "      <td>Avicii</td>\n",
       "      <td>The Nights</td>\n",
       "      <td>2020-08-22 11:59:00</td>\n",
       "      <td>2020</td>\n",
       "      <td>8</td>\n",
       "      <td>22</td>\n",
       "      <td>11:59:00</td>\n",
       "      <td>11</td>\n",
       "      <td>Saturday</td>\n",
       "      <td>1</td>\n",
       "      <td>0.000</td>\n",
       "      <td>0.000</td>\n",
       "    </tr>\n",
       "    <tr>\n",
       "      <th>3</th>\n",
       "      <td>Troye Sivan</td>\n",
       "      <td>The Fault in Our Stars</td>\n",
       "      <td>2020-08-22 11:59:00</td>\n",
       "      <td>2020</td>\n",
       "      <td>8</td>\n",
       "      <td>22</td>\n",
       "      <td>11:59:00</td>\n",
       "      <td>11</td>\n",
       "      <td>Saturday</td>\n",
       "      <td>1</td>\n",
       "      <td>0.002</td>\n",
       "      <td>0.117</td>\n",
       "    </tr>\n",
       "    <tr>\n",
       "      <th>4</th>\n",
       "      <td>Pritam</td>\n",
       "      <td>Khairiyat</td>\n",
       "      <td>2020-08-22 11:59:00</td>\n",
       "      <td>2020</td>\n",
       "      <td>8</td>\n",
       "      <td>22</td>\n",
       "      <td>11:59:00</td>\n",
       "      <td>11</td>\n",
       "      <td>Saturday</td>\n",
       "      <td>1</td>\n",
       "      <td>0.001</td>\n",
       "      <td>0.033</td>\n",
       "    </tr>\n",
       "  </tbody>\n",
       "</table>\n",
       "</div>"
      ],
      "text/plain": [
       "     artistName                    trackName         Stream_Time  year  month  \\\n",
       "0  Arijit Singh  Raabta (From \"Agent Vinod\") 2020-08-21 18:59:00  2020      8   \n",
       "1   Troye Sivan       The Fault in Our Stars 2020-08-22 07:41:00  2020      8   \n",
       "2        Avicii                   The Nights 2020-08-22 11:59:00  2020      8   \n",
       "3   Troye Sivan       The Fault in Our Stars 2020-08-22 11:59:00  2020      8   \n",
       "4        Pritam                    Khairiyat 2020-08-22 11:59:00  2020      8   \n",
       "\n",
       "   day      time  hour  day_name  Count  Listening Hours  Listening Minutes  \n",
       "0   21  18:59:00    18    Friday      1            0.061              3.633  \n",
       "1   22  07:41:00     7  Saturday      1            0.028              1.667  \n",
       "2   22  11:59:00    11  Saturday      1            0.000              0.000  \n",
       "3   22  11:59:00    11  Saturday      1            0.002              0.117  \n",
       "4   22  11:59:00    11  Saturday      1            0.001              0.033  "
      ]
     },
     "execution_count": 539,
     "metadata": {},
     "output_type": "execute_result"
    }
   ],
   "source": [
    "df.drop(columns=[\"endTime\",\"Stream_Duration\",\"msPlayed\"], inplace=True)\n",
    "\n",
    "df.head()"
   ]
  },
  {
   "cell_type": "markdown",
   "id": "0b0f5b01",
   "metadata": {},
   "source": [
    "### Calculate the No. of Unique Artists whose Songs are Played"
   ]
  },
  {
   "cell_type": "code",
   "execution_count": 540,
   "id": "30ee3fe8",
   "metadata": {},
   "outputs": [
    {
     "data": {
      "text/plain": [
       "949"
      ]
     },
     "execution_count": 540,
     "metadata": {},
     "output_type": "execute_result"
    }
   ],
   "source": [
    "unique_artists = df[\"artistName\"].nunique()\n",
    "total_artists = df[\"artistName\"].count()\n",
    "unique_artist_percentage = unique_artists/total_artists*100\n",
    "unique_artists"
   ]
  },
  {
   "cell_type": "markdown",
   "id": "4e525335",
   "metadata": {},
   "source": [
    "### Calculate the Percentage of Unique Artists Out of Total Artists whose Songs are Played"
   ]
  },
  {
   "cell_type": "code",
   "execution_count": 541,
   "id": "ff8524ea",
   "metadata": {},
   "outputs": [
    {
     "data": {
      "text/plain": [
       "10.910554150379397"
      ]
     },
     "execution_count": 541,
     "metadata": {},
     "output_type": "execute_result"
    }
   ],
   "source": [
    "unique_artist_percentage"
   ]
  },
  {
   "cell_type": "markdown",
   "id": "c29f5ac7",
   "metadata": {},
   "source": [
    "### Calculate the No. of Unique Songs Played"
   ]
  },
  {
   "cell_type": "code",
   "execution_count": 542,
   "id": "dd5fad01",
   "metadata": {},
   "outputs": [
    {
     "data": {
      "text/plain": [
       "2189"
      ]
     },
     "execution_count": 542,
     "metadata": {},
     "output_type": "execute_result"
    }
   ],
   "source": [
    "unique_songs = df[\"trackName\"].nunique()\n",
    "total_songs = df[\"trackName\"].count()\n",
    "unique_songs_percentage = unique_songs/total_songs*100\n",
    "unique_songs"
   ]
  },
  {
   "cell_type": "markdown",
   "id": "c2ba269c",
   "metadata": {},
   "source": [
    "### Calculate the Percentage of Unique Songs Out of All the Songs Played"
   ]
  },
  {
   "cell_type": "code",
   "execution_count": 543,
   "id": "72845097",
   "metadata": {},
   "outputs": [
    {
     "data": {
      "text/plain": [
       "25.166704989652793"
      ]
     },
     "execution_count": 543,
     "metadata": {},
     "output_type": "execute_result"
    }
   ],
   "source": [
    "unique_songs_percentage"
   ]
  },
  {
   "cell_type": "markdown",
   "id": "f031f786",
   "metadata": {},
   "source": [
    "### Plot Top 10 Favourite Artists based on the Listening Hours and No. of Songs"
   ]
  },
  {
   "cell_type": "code",
   "execution_count": 544,
   "id": "a3fb76dd",
   "metadata": {},
   "outputs": [
    {
     "data": {
      "image/png": "[encoded data removed]",
      "text/plain": [
       "<Figure size 1440x360 with 2 Axes>"
      ]
     },
     "metadata": {
      "needs_background": "light"
     },
     "output_type": "display_data"
    }
   ],
   "source": [
    "Top_Artist_By_Time = df.groupby([\"artistName\"])[[\"Listening Hours\",\"Count\"]].sum().sort_values(by=\"Listening Hours\", ascending=False)\n",
    "Top_Artist_By_Count = df.groupby([\"artistName\"])[[\"Listening Hours\",\"Count\"]].sum().sort_values(by=\"Count\", ascending=False)\n",
    "\n",
    "\n",
    "fig, (ax1,ax2) = plt.subplots(1,2,figsize=(20,5))\n",
    "\n",
    "ax1.bar(Top_Artist_By_Time.head(10).index,Top_Artist[\"Listening Hours\"].head(10))\n",
    "ax1.set(title=\"My Top 10 Favourite Artists (based on Listening Hours)\",xlabel=\"Artists\",ylabel=\"No. of Hours Songs Played\");\n",
    "ax1.tick_params(labelrotation=75);\n",
    "\n",
    "ax2.bar(Top_Artist_By_Count.head(10).index,Top_Artist[\"Listening Hours\"].head(10))\n",
    "ax2.set(title=\"My Top 10 Favourite Artists (based on Count)\",xlabel=\"Artists\",ylabel=\"No. of Hours Songs Played\");\n",
    "ax2.tick_params(labelrotation=75);"
   ]
  },
  {
   "cell_type": "markdown",
   "id": "9b10b03c",
   "metadata": {},
   "source": [
    "### Plot Top 10 Favourite Songs based on the Listening Hours and No. of Times"
   ]
  },
  {
   "cell_type": "code",
   "execution_count": 545,
   "id": "ef1b3cab",
   "metadata": {},
   "outputs": [
    {
     "name": "stderr",
     "output_type": "stream",
     "text": [
      "c:\\users\\hp\\appdata\\local\\programs\\python\\python39\\lib\\site-packages\\matplotlib\\backends\\backend_agg.py:240: RuntimeWarning: Glyph 127911 missing from current font.\n",
      "  font.set_text(s, 0.0, flags=flags)\n",
      "c:\\users\\hp\\appdata\\local\\programs\\python\\python39\\lib\\site-packages\\matplotlib\\backends\\backend_agg.py:203: RuntimeWarning: Glyph 127911 missing from current font.\n",
      "  font.set_text(s, 0, flags=flags)\n"
     ]
    },
    {
     "data": {
      "image/png": "[encoded data removed]",
      "text/plain": [
       "<Figure size 1440x360 with 2 Axes>"
      ]
     },
     "metadata": {
      "needs_background": "light"
     },
     "output_type": "display_data"
    }
   ],
   "source": [
    "Top_Songs_By_Time = df.groupby([\"trackName\"])[[\"Listening Hours\",\"Count\"]].sum().sort_values(by=\"Listening Hours\", ascending=False)\n",
    "Top_Songs_By_Count = df.groupby([\"trackName\"])[[\"Listening Hours\",\"Count\"]].sum().sort_values(by=\"Count\", ascending=False)\n",
    "\n",
    "\n",
    "fig, (ax1,ax2) = plt.subplots(1,2,figsize=(20,5))\n",
    "\n",
    "ax1.bar(Top_Songs_By_Time.head(10).index,Top_Songs_By_Time[\"Listening Hours\"].head(10))\n",
    "ax1.set(title=\"My Top 10 Favourite Songs (based on Listening Hours)\",xlabel=\"Songs\",ylabel=\"No. of Hours Songs Played\");\n",
    "ax1.tick_params(labelrotation=90);\n",
    "\n",
    "ax2.bar(Top_Songs_By_Count.head(10).index,Top_Songs_By_Count[\"Count\"].head(10))\n",
    "ax2.set(title=\"My Top 10 Favourite Songs (based on Count)\",xlabel=\"Songs\",ylabel=\"No. of Times Songs Played\");\n",
    "ax2.tick_params(labelrotation=90);"
   ]
  },
  {
   "cell_type": "markdown",
   "id": "ef970dd5",
   "metadata": {},
   "source": [
    "### Plot a Pie Chart to show the Day Wise Percentage of Streaming"
   ]
  },
  {
   "cell_type": "code",
   "execution_count": 546,
   "id": "cc629704",
   "metadata": {},
   "outputs": [
    {
     "data": {
      "image/png": "[encoded data removed]",
      "text/plain": [
       "<Figure size 864x432 with 1 Axes>"
      ]
     },
     "metadata": {},
     "output_type": "display_data"
    }
   ],
   "source": [
    "fig, ax = plt.subplots(figsize=(12, 6))\n",
    "ax.pie(df[\"day_name\"].value_counts(), labels = df[\"day_name\"].value_counts().index, autopct='%.2f%%', startangle=180);\n",
    "ax.set(title=\"Day wise percentage of Streaming\");"
   ]
  },
  {
   "cell_type": "markdown",
   "id": "8a941b5a",
   "metadata": {},
   "source": [
    "### Plot a Histogram to Show the Average Distribution of Streaming Over Hours of the Day"
   ]
  },
  {
   "cell_type": "code",
   "execution_count": 547,
   "id": "aa42b501",
   "metadata": {},
   "outputs": [
    {
     "data": {
      "image/png": "[encoded data removed]",
      "text/plain": [
       "<Figure size 1440x360 with 1 Axes>"
      ]
     },
     "metadata": {
      "needs_background": "light"
     },
     "output_type": "display_data"
    }
   ],
   "source": [
    "fig, ax = plt.subplots(figsize=(20,5))\n",
    "ax.set(title=\"Average Distribution of Streaming Over Hours of the Day\", xlabel=\"Hours (in 24 hour format)\", ylabel=\"No. of Songs Played\")\n",
    "sns.histplot(df[\"hour\"], bins=24);"
   ]
  },
  {
   "cell_type": "markdown",
   "id": "1e6ac588",
   "metadata": {},
   "source": [
    "### Plot a Graph to Show the Average Spotify Usage over Months"
   ]
  },
  {
   "cell_type": "code",
   "execution_count": 548,
   "id": "23e299b8",
   "metadata": {},
   "outputs": [
    {
     "data": {
      "image/png": "[encoded data removed]",
      "text/plain": [
       "<Figure size 1440x360 with 1 Axes>"
      ]
     },
     "metadata": {
      "needs_background": "light"
     },
     "output_type": "display_data"
    }
   ],
   "source": [
    "fig, ax = plt.subplots(figsize=(20,5))\n",
    "ax = sns.countplot(y=df[\"month\"])\n",
    "ax.set(title=\"Average Spotify Usage over Months\", xlabel=\"No. of Songs Played\", ylabel=\"Months (1-12)\");"
   ]
  },
  {
   "cell_type": "markdown",
   "id": "9b8f4a78",
   "metadata": {},
   "source": [
    "### Calculate the Total Hours Spent on Spotify"
   ]
  },
  {
   "cell_type": "code",
   "execution_count": 549,
   "id": "9cb5939e",
   "metadata": {},
   "outputs": [
    {
     "data": {
      "text/plain": [
       "380.067"
      ]
     },
     "execution_count": 549,
     "metadata": {},
     "output_type": "execute_result"
    }
   ],
   "source": [
    "Spent_Hours = df[\"Listening Hours\"].sum()\n",
    "Spent_Hours"
   ]
  },
  {
   "cell_type": "markdown",
   "id": "cebbf047",
   "metadata": {},
   "source": [
    "### Find the Date on Which Maximum Number of Songs Were Streamed"
   ]
  },
  {
   "cell_type": "code",
   "execution_count": 550,
   "id": "36db28ef",
   "metadata": {},
   "outputs": [
    {
     "data": {
      "text/html": [
       "<div>\n",
       "<style scoped>\n",
       "    .dataframe tbody tr th:only-of-type {\n",
       "        vertical-align: middle;\n",
       "    }\n",
       "\n",
       "    .dataframe tbody tr th {\n",
       "        vertical-align: top;\n",
       "    }\n",
       "\n",
       "    .dataframe thead th {\n",
       "        text-align: right;\n",
       "    }\n",
       "</style>\n",
       "<table border=\"1\" class=\"dataframe\">\n",
       "  <thead>\n",
       "    <tr style=\"text-align: right;\">\n",
       "      <th></th>\n",
       "      <th>Count</th>\n",
       "    </tr>\n",
       "    <tr>\n",
       "      <th>date</th>\n",
       "      <th></th>\n",
       "    </tr>\n",
       "  </thead>\n",
       "  <tbody>\n",
       "    <tr>\n",
       "      <th>2021-02-28</th>\n",
       "      <td>177</td>\n",
       "    </tr>\n",
       "  </tbody>\n",
       "</table>\n",
       "</div>"
      ],
      "text/plain": [
       "            Count\n",
       "date             \n",
       "2021-02-28    177"
      ]
     },
     "execution_count": 550,
     "metadata": {},
     "output_type": "execute_result"
    }
   ],
   "source": [
    "df[\"date\"] = df[\"Stream_Time\"].dt.date\n",
    "Max_Listening = df.groupby([\"date\"])[[\"Count\"]].sum().sort_values(by=\"Count\", ascending=False)\n",
    "Max_Listening.head(1)"
   ]
  },
  {
   "cell_type": "markdown",
   "id": "143729d2",
   "metadata": {},
   "source": [
    "### Plot a Scatterplot to Show the Maximum Number of Songs Played in a Day"
   ]
  },
  {
   "cell_type": "code",
   "execution_count": 551,
   "id": "e7159ca0",
   "metadata": {},
   "outputs": [
    {
     "data": {
      "image/png": "[encoded data removed]",
      "text/plain": [
       "<Figure size 1440x360 with 1 Axes>"
      ]
     },
     "metadata": {
      "needs_background": "light"
     },
     "output_type": "display_data"
    }
   ],
   "source": [
    "fig,ax = plt.subplots(figsize=(20,5))\n",
    "ax.scatter(Max_Listening.index,Max_Listening[\"Count\"]);\n",
    "ax.set(title=\"Maximum number of songs played in a day\",xlabel=\"Date\",ylabel=\"Count\");\n",
    "ax.axhline(Max_Listening[\"Count\"].mean(), linestyle=\"-\", color=\"r\");"
   ]
  },
  {
   "cell_type": "markdown",
   "id": "66d2c37b",
   "metadata": {},
   "source": [
    "### Plot a Graph to Show the Average Usage over Week"
   ]
  },
  {
   "cell_type": "code",
   "execution_count": 552,
   "id": "00a6064e",
   "metadata": {},
   "outputs": [
    {
     "data": {
      "image/png": "[encoded data removed]",
      "text/plain": [
       "<Figure size 1152x432 with 1 Axes>"
      ]
     },
     "metadata": {
      "needs_background": "light"
     },
     "output_type": "display_data"
    }
   ],
   "source": [
    "fig, ax = plt.subplots(figsize=(16,6))\n",
    "ax = sns.countplot(x=df[\"day_name\"])\n",
    "plt.xticks(rotation=75);\n",
    "ax.set(title=\"Average Usage over Week\",xlabel=\"Days\",ylabel=\"No. of Songs Played\");"
   ]
  },
  {
   "cell_type": "markdown",
   "id": "6b996e85",
   "metadata": {},
   "source": [
    "### Plot a Bar Graph to Show the Difference between Streaming on Weekday and on Weekend"
   ]
  },
  {
   "cell_type": "code",
   "execution_count": 553,
   "id": "87021fa5",
   "metadata": {},
   "outputs": [
    {
     "data": {
      "image/png": "[encoded data removed]",
      "text/plain": [
       "<Figure size 720x432 with 1 Axes>"
      ]
     },
     "metadata": {
      "needs_background": "light"
     },
     "output_type": "display_data"
    }
   ],
   "source": [
    "extra_df = df.copy()\n",
    "extra_df['is_weekend'] = extra_df[\"day_name\"].isin(['Sunday','Saturday'])\n",
    "weekday_vs_weekend = extra_df.groupby(['is_weekend'])[['Count']].sum()\n",
    "weekday_vs_weekend[\"Percentage\"] = weekday_vs_weekend[\"Count\"]/weekday_vs_weekend[\"Count\"].sum()*100\n",
    "\n",
    "fig, ax1 = plt.subplots(figsize=(10,6))\n",
    "ax1 = sns.barplot(x=[\"Weekday\",\"Weekend\"],y=\"Count\",data=weekday_vs_weekend,ax=ax1)\n",
    "ax1.set(title=\"Weekday vs Weekend\",ylabel=\"Counts of Songs Played\");"
   ]
  },
  {
   "cell_type": "markdown",
   "id": "406b6b80",
   "metadata": {},
   "source": [
    "## Conclusion (Aug 2020 - Aug 2021)"
   ]
  },
  {
   "cell_type": "markdown",
   "id": "7a34bb92",
   "metadata": {},
   "source": [
    "### 1. My Favourite Artist Whom I've Played Most is Pritam"
   ]
  },
  {
   "cell_type": "markdown",
   "id": "330388f9",
   "metadata": {},
   "source": [
    "### 2. My Favourite Song is Gul by Anuv Jain"
   ]
  },
  {
   "cell_type": "markdown",
   "id": "8cb585bc",
   "metadata": {},
   "source": [
    "### 3. I'm most active in Spotify on Mondays"
   ]
  },
  {
   "cell_type": "markdown",
   "id": "a9c5a720",
   "metadata": {},
   "source": [
    "### 4. My most active hours on Sptify ranges from 1 PM to 8 PM."
   ]
  },
  {
   "cell_type": "markdown",
   "id": "7ce9b984",
   "metadata": {},
   "source": [
    "### 5. I played the most songs in July 2021"
   ]
  },
  {
   "cell_type": "markdown",
   "id": "a3a97896",
   "metadata": {},
   "source": [
    "### 6. I have spent almost 380 hours streaming on spotify"
   ]
  },
  {
   "cell_type": "markdown",
   "id": "a4385f86",
   "metadata": {},
   "source": [
    "### 7. On 28th February 2021, I Played the Maximum Number of Songs that is 390 Songs"
   ]
  },
  {
   "cell_type": "markdown",
   "id": "711395c6",
   "metadata": {},
   "source": [
    "### 8. I played 30 songs on average per day."
   ]
  },
  {
   "cell_type": "markdown",
   "id": "c6139889",
   "metadata": {},
   "source": [
    "### 9. I have played songs of 949 Unique Artist which comprises 10.9% of total artists in my streaming history."
   ]
  },
  {
   "cell_type": "markdown",
   "id": "19e1a2f5",
   "metadata": {},
   "source": [
    "### 10. I have played 2189 Unique Songs which comprises 25.1% of total songs in my streaming history."
   ]
  }
 ],
 "metadata": {
  "kernelspec": {
   "display_name": "Python 3",
   "language": "python",
   "name": "python3"
  },
  "language_info": {
   "codemirror_mode": {
    "name": "ipython",
    "version": 3
   },
   "file_extension": ".py",
   "mimetype": "text/x-python",
   "name": "python",
   "nbconvert_exporter": "python",
   "pygments_lexer": "ipython3",
   "version": "3.9.5"
  }
 },
 "nbformat": 4,
 "nbformat_minor": 5
}
